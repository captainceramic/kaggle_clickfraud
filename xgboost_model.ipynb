{
 "cells": [
  {
   "cell_type": "markdown",
   "metadata": {},
   "source": [
    "# Model to attempt to detect click fraud."
   ]
  },
  {
   "cell_type": "code",
   "execution_count": null,
   "metadata": {},
   "outputs": [],
   "source": [
    "import pandas as pd\n",
    "import matplotlib.pyplot as plt\n",
    "import xgboost as xgb\n",
    "%matplotlib inline"
   ]
  },
  {
   "cell_type": "code",
   "execution_count": null,
   "metadata": {},
   "outputs": [],
   "source": [
    "dtypes = {\"ip\": \"uint32\",\n",
    "          \"app\": \"uint16\",\n",
    "          \"device\": \"uint16\",\n",
    "          \"os\": \"uint16\",\n",
    "          \"channel\": \"uint16\",\n",
    "          \"is_attributed\": \"uint8\"}\n",
    "good_cols = [0, 1, 2, 3, 4, 5, 7]\n",
    "\n",
    "raw_train = pd.read_csv(\"data/train.csv.zip\",\n",
    "#raw_train = pd.read_csv(\"data/train_sample.csv.zip\",\n",
    "                        nrows=60000000,\n",
    "                        usecols=good_cols,\n",
    "                        dtype=dtypes,\n",
    "                        infer_datetime_format=True,\n",
    "                        parse_dates=[\"click_time\"])\n",
    "raw_train[\"timestamp\"] = raw_train.click_time.astype(\"int64\") // 10 ** 9\n",
    "raw_train.drop(columns=[\"click_time\"], inplace=True)\n",
    "print(raw_train.groupby(\"is_attributed\")[\"is_attributed\"].sum())\n",
    "raw_train.head()"
   ]
  },
  {
   "cell_type": "code",
   "execution_count": null,
   "metadata": {},
   "outputs": [],
   "source": [
    "raw_test = pd.read_csv(\"data/test.csv.zip\",\n",
    "                        index_col=0,\n",
    "                        dtype=dtypes,\n",
    "                        infer_datetime_format=True,\n",
    "                        parse_dates=[\"click_time\"])\n",
    "raw_test[\"timestamp\"] = raw_test.click_time.astype(\"int64\") // 10 ** 9\n",
    "raw_test.drop(columns=[\"click_time\"], inplace=True)\n",
    "raw_test.head()"
   ]
  },
  {
   "cell_type": "code",
   "execution_count": null,
   "metadata": {},
   "outputs": [],
   "source": [
    "raw_train.info(memory_usage=\"deep\")\n",
    "raw_test.info(memory_usage=\"deep\")"
   ]
  },
  {
   "cell_type": "markdown",
   "metadata": {},
   "source": [
    "# Have a go at some XGBoost stuff!"
   ]
  },
  {
   "cell_type": "code",
   "execution_count": null,
   "metadata": {},
   "outputs": [],
   "source": [
    "# Model data\n",
    "labels = raw_train[\"is_attributed\"].values\n",
    "raw_train.drop(columns=\"is_attributed\", inplace=True)\n",
    "dtrain = xgb.DMatrix(pd.get_dummies(raw_train), label=labels)\n",
    "dtest = xgb.DMatrix(pd.get_dummies(raw_test))"
   ]
  },
  {
   "cell_type": "code",
   "execution_count": null,
   "metadata": {},
   "outputs": [],
   "source": [
    "del(raw_train)"
   ]
  },
  {
   "cell_type": "code",
   "execution_count": null,
   "metadata": {},
   "outputs": [],
   "source": [
    "# Parameters\n",
    "params = {\"booster\": \"gbtree\",\n",
    "          \"silent\": 0,\n",
    "          \"eta\": 0.2,\n",
    "          \"eval_metric\": \"auc\",\n",
    "          \"objective\": \"binary:logistic\"}\n",
    "num_rounds = 100"
   ]
  },
  {
   "cell_type": "code",
   "execution_count": null,
   "metadata": {},
   "outputs": [],
   "source": [
    "# Cross-validation test\n",
    "cv_results = xgb.cv(params, dtrain,\n",
    "                    num_boost_round=num_rounds,\n",
    "                    verbose_eval=20,\n",
    "                    nfold=3)"
   ]
  },
  {
   "cell_type": "code",
   "execution_count": null,
   "metadata": {},
   "outputs": [],
   "source": [
    "fraud_model = xgb.train(params, dtrain,\n",
    "                        num_boost_round=num_rounds)"
   ]
  },
  {
   "cell_type": "code",
   "execution_count": null,
   "metadata": {},
   "outputs": [],
   "source": [
    "result = fraud_model.predict(dtest)"
   ]
  },
  {
   "cell_type": "code",
   "execution_count": null,
   "metadata": {},
   "outputs": [],
   "source": [
    "scored_output = pd.DataFrame({\"is_attributed\": result},\n",
    "                            index=raw_test.index)\n",
    "scored_output.head()"
   ]
  },
  {
   "cell_type": "code",
   "execution_count": null,
   "metadata": {},
   "outputs": [],
   "source": [
    "# Write out for submission\n",
    "scored_output.to_csv(\"talking_data.gz\",\n",
    "                     compression=\"gzip\")"
   ]
  },
  {
   "cell_type": "code",
   "execution_count": null,
   "metadata": {},
   "outputs": [],
   "source": []
  }
 ],
 "metadata": {
  "kernelspec": {
   "display_name": "Python 3",
   "language": "python",
   "name": "python3"
  },
  "language_info": {
   "codemirror_mode": {
    "name": "ipython",
    "version": 3
   },
   "file_extension": ".py",
   "mimetype": "text/x-python",
   "name": "python",
   "nbconvert_exporter": "python",
   "pygments_lexer": "ipython3",
   "version": "3.5.2"
  }
 },
 "nbformat": 4,
 "nbformat_minor": 2
}
