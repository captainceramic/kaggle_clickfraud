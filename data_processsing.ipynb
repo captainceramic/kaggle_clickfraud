{
 "cells": [
  {
   "cell_type": "markdown",
   "metadata": {},
   "source": [
    "# pre-process the click fraud data for ffm format"
   ]
  },
  {
   "cell_type": "code",
   "execution_count": null,
   "metadata": {},
   "outputs": [],
   "source": [
    "import pandas as pd\n",
    "import numpy as np"
   ]
  },
  {
   "cell_type": "code",
   "execution_count": null,
   "metadata": {},
   "outputs": [],
   "source": [
    "dtypes = {\"ip\": \"uint32\",\n",
    "          \"app\": \"uint16\",\n",
    "          \"device\": \"uint16\",\n",
    "          \"os\": \"uint16\",\n",
    "          \"channel\": \"uint16\",\n",
    "          \"is_attributed\": \"uint8\"}\n",
    "good_cols = [0, 1, 2, 3, 4, 5, 7]"
   ]
  },
  {
   "cell_type": "code",
   "execution_count": null,
   "metadata": {},
   "outputs": [],
   "source": [
    "raw_test = pd.read_csv(\"data/test.csv.zip\",\n",
    "                        index_col=0,\n",
    "                        dtype=dtypes,\n",
    "                        infer_datetime_format=True,\n",
    "                        parse_dates=[\"click_time\"])\n",
    "\n",
    "\n",
    "# Date stuff.\n",
    "raw_test[\"year\"] = raw_test.click_time.dt.year.astype(\"uint8\")\n",
    "raw_test[\"month\"] = raw_test.click_time.dt.month.astype(\"uint8\")\n",
    "raw_test[\"day\"] = raw_test.click_time.dt.day.astype(\"uint8\")\n",
    "raw_test[\"dayofweek\"] = raw_test.click_time.dt.dayofweek.astype(\"uint8\")\n",
    "raw_test[\"hour\"] = raw_test.click_time.dt.hour.astype(\"uint8\")\n",
    "raw_test[\"minute\"] = raw_test.click_time.dt.minute.astype(\"uint8\")\n",
    "raw_test[\"second\"] = raw_test.click_time.dt.second.astype(\"uint8\")\n",
    "\n",
    "raw_test.drop(columns=\"click_time\", inplace=True)\n",
    "\n",
    "raw_test.head()"
   ]
  },
  {
   "cell_type": "code",
   "execution_count": null,
   "metadata": {},
   "outputs": [],
   "source": [
    "raw_train = pd.read_csv(\"data/train.csv.zip\",\n",
    "                        nrows=25000000,\n",
    "                        usecols=good_cols,\n",
    "                        dtype=dtypes,\n",
    "                        infer_datetime_format=True,\n",
    "                        parse_dates=[\"click_time\"])\n",
    "\n",
    "# Date stuff.\n",
    "raw_train[\"year\"] = raw_train.click_time.dt.year.astype(\"uint8\")\n",
    "raw_train[\"month\"] = raw_train.click_time.dt.month.astype(\"uint8\")\n",
    "raw_train[\"day\"] = raw_train.click_time.dt.day.astype(\"uint8\")\n",
    "raw_train[\"dayofweek\"] = raw_train.click_time.dt.dayofweek.astype(\"uint8\")\n",
    "raw_train[\"hour\"] = raw_train.click_time.dt.hour.astype(\"uint8\")\n",
    "raw_train[\"minute\"] = raw_train.click_time.dt.minute.astype(\"uint8\")\n",
    "raw_train[\"second\"] = raw_train.click_time.dt.second.astype(\"uint8\")\n",
    "\n",
    "raw_train.drop(columns=\"click_time\", inplace=True)\n",
    "\n",
    "print(raw_train.groupby(\"is_attributed\")[\"is_attributed\"].sum())\n",
    "\n",
    "# Re-order the training set columns\n",
    "new_cols = list(raw_test.columns)\n",
    "new_cols.append(\"is_attributed\")\n",
    "raw_train = raw_train[new_cols]\n",
    "\n",
    "raw_train.head()"
   ]
  },
  {
   "cell_type": "code",
   "execution_count": null,
   "metadata": {},
   "outputs": [],
   "source": [
    "raw_train.info(memory_usage=\"deep\")\n",
    "raw_test.info(memory_usage=\"deep\")"
   ]
  },
  {
   "cell_type": "code",
   "execution_count": null,
   "metadata": {},
   "outputs": [],
   "source": [
    "# We need to convert into annoying libFFM format!\n",
    "# based on: https://gist.github.com/NhuanTDBK/14989f19f450c8ad675d52e8452517ad\n",
    "\n",
    "# For every unique value of every field, create a hash\n",
    "# and then a sequential number in a dictionary.\n",
    "hash_dict = {}\n",
    "\n",
    "i = 0\n",
    "for colname in raw_test.columns:  \n",
    "    test_values = raw_test[colname].unique()\n",
    "    train_values = raw_train[colname].unique()\n",
    "       \n",
    "    all_values = set(np.concatenate((test_values, train_values)))\n",
    "    \n",
    "    for value in all_values:\n",
    "        hash_dict[hash(colname + str(value))] = i\n",
    "        i = i+1\n",
    "    \n",
    "# For every line in the test/train, replace with the correct values."
   ]
  },
  {
   "cell_type": "code",
   "execution_count": null,
   "metadata": {},
   "outputs": [],
   "source": [
    "# Now we have the hash dict:\n",
    "trainfile = \"train_libffm.txt\"\n",
    "testfile = \"test_libffm.txt\"\n",
    "\n",
    "# This is going to be slow.\n",
    "with open(trainfile, \"w\") as training_output_file:\n",
    "    for rowtuple in raw_train.itertuples():\n",
    "        output_string = []\n",
    "        for i, name in enumerate(raw_test.columns):\n",
    "            output_string.append(\"{}:{}:1\".format(i, hash_dict[hash(name + str(getattr(rowtuple, name)))]))\n",
    "        training_output_file.write(str(rowtuple.is_attributed)+ \" \" + \" \".join(output_string) + \"\\n\")\n",
    "        \n",
    "        \n",
    "with open(testfile, \"w\") as testing_output_file:\n",
    "    for rowtuple in raw_test.itertuples():\n",
    "        output_string = []\n",
    "        for i, name in enumerate(raw_test.columns):\n",
    "            output_string.append(\"{}:{}:1\".format(i, hash_dict[hash(name + str(getattr(rowtuple, name)))]))\n",
    "        testing_output_file.write(\"1 \" + \" \".join(output_string) + \"\\n\")"
   ]
  },
  {
   "cell_type": "code",
   "execution_count": null,
   "metadata": {},
   "outputs": [],
   "source": []
  }
 ],
 "metadata": {
  "kernelspec": {
   "display_name": "Python 3",
   "language": "python",
   "name": "python3"
  },
  "language_info": {
   "codemirror_mode": {
    "name": "ipython",
    "version": 3
   },
   "file_extension": ".py",
   "mimetype": "text/x-python",
   "name": "python",
   "nbconvert_exporter": "python",
   "pygments_lexer": "ipython3",
   "version": "3.5.2"
  }
 },
 "nbformat": 4,
 "nbformat_minor": 2
}
