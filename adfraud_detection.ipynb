{
 "cells": [
  {
   "cell_type": "markdown",
   "metadata": {},
   "source": [
    "# TalkingData AdTracking Fraud\n",
    "\n",
    "This competition involves training up a model to detect some kind of ad fraud with clickthrough rates. Plan is to train up an XGBoost GBM and work on tuning the rare events."
   ]
  },
  {
   "cell_type": "code",
   "execution_count": null,
   "metadata": {},
   "outputs": [],
   "source": [
    "import pandas as pd\n",
    "import xgboost as xgb\n",
    "import matplotlib.pyplot as plt\n",
    "%matplotlib inline"
   ]
  },
  {
   "cell_type": "markdown",
   "metadata": {},
   "source": [
    "## Data load section + data prep"
   ]
  },
  {
   "cell_type": "code",
   "execution_count": null,
   "metadata": {},
   "outputs": [],
   "source": [
    "#raw_train = pd.read_csv(\"data/train.csv.zip\")\n",
    "dtypes = {\"app\": \"category\",\n",
    "          \"device\": \"category\",\n",
    "          \"os\": \"category\",\n",
    "          \"channel\": \"category\"}\n",
    "\n",
    "raw_train = pd.read_csv(\"data/train_sample.csv.zip\",\n",
    "                        dtype=dtypes,\n",
    "                        infer_datetime_format=True,\n",
    "                        parse_dates=[\"click_time\"])\n",
    "raw_train.drop(columns=\"attributed_time\", inplace=True)\n",
    "\n",
    "raw_test = pd.read_csv(\"data/test.csv.zip\",\n",
    "                       dtype=dtypes,\n",
    "                       infer_datetime_format=True,\n",
    "                       parse_dates=[\"click_time\"],\n",
    "                       index_col=0)\n",
    "\n",
    "raw_train.head()"
   ]
  },
  {
   "cell_type": "markdown",
   "metadata": {},
   "source": [
    "## Initial data vis and class weighting"
   ]
  },
  {
   "cell_type": "code",
   "execution_count": null,
   "metadata": {},
   "outputs": [],
   "source": [
    "# Time of day/month could have an impact?\n",
    "raw_train.plot(x = \"click_time\", y = \"is_attributed\")"
   ]
  },
  {
   "cell_type": "code",
   "execution_count": null,
   "metadata": {},
   "outputs": [],
   "source": [
    "# It is rare!\n",
    "raw_train.groupby(\"is_attributed\")[\"is_attributed\"].count()"
   ]
  },
  {
   "cell_type": "markdown",
   "metadata": {},
   "source": [
    "## Cross validation and model parameters"
   ]
  },
  {
   "cell_type": "code",
   "execution_count": null,
   "metadata": {},
   "outputs": [],
   "source": [
    "# Model data\n",
    "labels = raw_train[\"is_attributed\"].values\n",
    "raw_train.drop(columns=\"is_attributed\", inplace=True)\n",
    "\n",
    "# Set a time index.\n",
    "# https://stackoverflow.com/questions/40881876/python-pandas-convert-datetime-to-timestamp-effectively-through-dt-accessor\n",
    "raw_train[\"timestamp\"] = raw_train.click_time.dt.values.astype(\"int64\") // 10**9\n",
    "raw_train.drop(columns=\"click_time\", inplace=True)\n",
    "\n",
    "raw_test[\"timestamp\"] = raw_test.click_time.dt.values.astype(\"int64\") // 10**9\n",
    "raw_test.drop(columns=\"click_time\", inplace=True)"
   ]
  },
  {
   "cell_type": "code",
   "execution_count": null,
   "metadata": {},
   "outputs": [],
   "source": [
    "dtrain = xgb.DMatrix(pd.get_dummies(raw_train), label=labels)\n",
    "dtest = xgb.DMatrix(pd.get_dummies(raw_test))"
   ]
  },
  {
   "cell_type": "code",
   "execution_count": null,
   "metadata": {},
   "outputs": [],
   "source": [
    "# Set model parameters"
   ]
  },
  {
   "cell_type": "code",
   "execution_count": null,
   "metadata": {},
   "outputs": [],
   "source": [
    "# Model training"
   ]
  },
  {
   "cell_type": "code",
   "execution_count": null,
   "metadata": {},
   "outputs": [],
   "source": [
    "# Predict and write out"
   ]
  }
 ],
 "metadata": {
  "kernelspec": {
   "display_name": "Python 3",
   "language": "python",
   "name": "python3"
  },
  "language_info": {
   "codemirror_mode": {
    "name": "ipython",
    "version": 3
   },
   "file_extension": ".py",
   "mimetype": "text/x-python",
   "name": "python",
   "nbconvert_exporter": "python",
   "pygments_lexer": "ipython3",
   "version": "3.5.2"
  }
 },
 "nbformat": 4,
 "nbformat_minor": 2
}
